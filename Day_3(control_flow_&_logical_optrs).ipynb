{
  "cells": [
    {
      "cell_type": "markdown",
      "metadata": {
        "id": "view-in-github",
        "colab_type": "text"
      },
      "source": [
        "<a href=\"https://colab.research.google.com/github/shezm13/html-portfolio/blob/main/Day_3(control_flow_%26_logical_optrs).ipynb\" target=\"_parent\"><img src=\"https://colab.research.google.com/assets/colab-badge.svg\" alt=\"Open In Colab\"/></a>"
      ]
    },
    {
      "cell_type": "code",
      "execution_count": null,
      "metadata": {
        "id": "uPY0XxtZe5-c"
      },
      "outputs": [],
      "source": [
        "#Day 3 - Beginner - Control Flow and Logical Operators"
      ]
    },
    {
      "cell_type": "code",
      "execution_count": null,
      "metadata": {
        "colab": {
          "base_uri": "https://localhost:8080/"
        },
        "id": "baMFta4ifU5g",
        "outputId": "742e7d5c-85f8-400c-a807-1a010d03fe5d"
      },
      "outputs": [
        {
          "name": "stdout",
          "output_type": "stream",
          "text": [
            "What's your age in cm? 652\n",
            "You can ride. Enjoy!\n",
            "Enter a number: 3\n",
            "Odd\n"
          ]
        }
      ],
      "source": [
        "#if else\n",
        "height=int(input(\"What's your age in cm? \"))\n",
        "if height>=120:\n",
        "  print(\"You can ride. Enjoy!\")\n",
        "else:\n",
        "  print(\"Sorry you cannot ride. Better luck next time!\")\n",
        "\n",
        "#Even or Odd\n",
        "number=int(input(\"Enter a number: \"))\n",
        "if number%2==0:\n",
        "  print(\"Even\")\n",
        "else:\n",
        "  print(\"Odd\")"
      ]
    },
    {
      "cell_type": "code",
      "execution_count": null,
      "metadata": {
        "colab": {
          "background_save": true,
          "base_uri": "https://localhost:8080/"
        },
        "id": "S6S6eaRRNTzt",
        "outputId": "2856d01b-0826-4bc8-ff89-5dc87fc7e688"
      },
      "outputs": [
        {
          "name": "stdout",
          "output_type": "stream",
          "text": [
            "Adult ticket-Rs.1200 \n"
          ]
        }
      ],
      "source": [
        "#Nested if and if elif\n",
        "height=int(input(\"What's your age in cm? \"))\n",
        "bill=0\n",
        "if height>=120:\n",
        "  age=int(input(\"What's your age? \"))\n",
        "  if age>=18:\n",
        "    bill=1200\n",
        "    print(\"Adult ticket-Rs.1200 \")\n",
        "  elif age>=12:\n",
        "    bill=700\n",
        "    print(\"Youth ticket-Rs.700 \")\n",
        "  elif age>=45 and age<=55:                                               #error\n",
        "    print(\"Free ride\")\n",
        "  else:\n",
        "    bill=500\n",
        "    print(\"Child ticket-Rs.500 \")\n",
        "  photo=input(\"Do u want a photo? Y or N: \")\n",
        "  if photo.upper()==\"Y\":\n",
        "    bill+=300\n",
        "    print(f\"Your final bill is {bill}\")\n",
        "else:\n",
        "  print(\"Sorry you cannot ride. Better luck next time!\")\n"
      ]
    },
    {
      "cell_type": "code",
      "execution_count": null,
      "metadata": {
        "colab": {
          "base_uri": "https://localhost:8080/"
        },
        "id": "cJ1F95_fP6yq",
        "outputId": "3586eecd-a28b-4868-ce55-c96488ee1f35"
      },
      "outputs": [
        {
          "name": "stdout",
          "output_type": "stream",
          "text": [
            "Enter height in m: 1.71\n",
            "Enter weight in kg: 150\n",
            "Your BMI is:  51\n",
            "Clinically obese\n"
          ]
        }
      ],
      "source": [
        "#BMI 2.0\n",
        "height=float(input(\"Enter height in m: \"))\n",
        "weight=int(input(\"Enter weight in kg: \"))\n",
        "bmi=int(weight/height**2)\n",
        "print(\"Your BMI is: \",bmi)\n",
        "if bmi<=18.5:\n",
        "  print(\"Underweight\")\n",
        "elif bmi<=25:\n",
        "  print(\"Normal weight\")\n",
        "elif bmi<=30:\n",
        "  print(\"Overweight\")\n",
        "elif bmi<=35:\n",
        "  print(\"Obese\")\n",
        "else:\n",
        "  print(\"Clinically obese\")"
      ]
    },
    {
      "cell_type": "code",
      "execution_count": null,
      "metadata": {
        "colab": {
          "base_uri": "https://localhost:8080/"
        },
        "id": "kpIyzHxp9r6D",
        "outputId": "1adbcff7-47a1-4afe-b853-6c41128b3d24"
      },
      "outputs": [
        {
          "name": "stdout",
          "output_type": "stream",
          "text": [
            "Enter the year: 2023\n",
            "The year 2023 is not a leap year. \n"
          ]
        }
      ],
      "source": [
        "#Leap year or not\n",
        "year=int(input(\"Enter the year: \"))\n",
        "if year%4==0:\n",
        "  if year%100!=0:\n",
        "    print(f\"The year {year} is a leap year. \")\n",
        "  else:\n",
        "    if year%400==0:\n",
        "      print(f\"The year {year} is a leap year. \")\n",
        "    else:\n",
        "      print(f\"The year {year} is not a leap year. \")\n",
        "else:\n",
        "  print(f\"The year {year} is not a leap year. \")"
      ]
    },
    {
      "cell_type": "code",
      "execution_count": null,
      "metadata": {
        "colab": {
          "base_uri": "https://localhost:8080/"
        },
        "id": "Qv13GwJpCPRm",
        "outputId": "e435ed97-9046-4586-87b4-d4c53d0b5d72"
      },
      "outputs": [
        {
          "name": "stdout",
          "output_type": "stream",
          "text": [
            "Welcome to Python Pizza Order!\n",
            "What size do u want? S, M or L l\n",
            "Do u want pepperoni? Y or N y\n",
            "Do u want chhese? Y or N n\n",
            "Your total is 280\n"
          ]
        }
      ],
      "source": [
        "#Pizza Order\n",
        "print(\"Welcome to Python Pizza Order!\")\n",
        "size=input(\"What size do u want? S, M or L \")\n",
        "pep=input(\"Do u want pepperoni? Y or N \")\n",
        "cheese=input(\"Do u want chhese? Y or N \")\n",
        "if size.upper()==\"S\":\n",
        "  bill=150\n",
        "  if pep.upper()==\"Y\":\n",
        "    bill+=20\n",
        "else:\n",
        "  if size.upper()==\"M\":\n",
        "    bill=200\n",
        "  elif size.upper()==\"L\":\n",
        "    bill=250\n",
        "  if pep.upper()==\"Y\":\n",
        "    bill+=30\n",
        "if cheese.upper()==\"Y\":\n",
        "  bill+=10\n",
        "print(f\"Your total is {bill}\")"
      ]
    },
    {
      "cell_type": "code",
      "source": [
        "#Love Calculator\n",
        "print(\"Welcome to Love Calculator!\")\n",
        "name1=input(\"Enter a name: \")\n",
        "name2=input(\"Enter a name: \")\n",
        "combined_string=name1+name2\n",
        "t=combined_string.lower().count(\"t\")\n",
        "r=combined_string.lower().count(\"r\")\n",
        "u=combined_string.lower().count(\"u\")\n",
        "e=combined_string.lower().count(\"e\")\n",
        "true=t+r+u+e\n",
        "l=combined_string.lower().count(\"l\")\n",
        "o=combined_string.lower().count(\"o\")\n",
        "v=combined_string.lower().count(\"v\")\n",
        "e=combined_string.lower().count(\"e\")\n",
        "e=combined_string.lower().count(\"e\")\n",
        "love=l+o+v+e\n",
        "love_score=str(true)+str(love)\n",
        "ls=int(love_score)\n",
        "if ls<10 or ls>90:\n",
        "  print(f\"Your score is {love_score}, you go together like coke and mentos. \")\n",
        "elif ls>=40 and ls<=50:\n",
        "  print(f\"Your score is {love_score}, your are alright togeter. \")\n",
        "else:\n",
        "  print(f\"Your score is {love_score}\")"
      ],
      "metadata": {
        "colab": {
          "base_uri": "https://localhost:8080/"
        },
        "id": "7SdoKmPfgCHC",
        "outputId": "f0399d8b-ea39-4006-84cd-a2f605a83e3a"
      },
      "execution_count": null,
      "outputs": [
        {
          "output_type": "stream",
          "name": "stdout",
          "text": [
            "Welcome to Love Calculator!\n",
            "Enter a name: virat kohli\n",
            "Enter a name: anushka sharma\n",
            "Your score is 43, your are alright togeter. \n"
          ]
        }
      ]
    },
    {
      "cell_type": "code",
      "source": [
        "#Treasure Island\n",
        "print('''\n",
        "*******************************************************************************\n",
        "          |                   |                  |                     |\n",
        " _________|________________.=\"\"_;=.______________|_____________________|_______\n",
        "|                   |  ,-\"_,=\"\"     `\"=.|                  |\n",
        "|___________________|__\"=._o`\"-._        `\"=.______________|___________________\n",
        "          |                `\"=._o`\"=._      _`\"=._                     |\n",
        " _________|_____________________:=._o \"=._.\"_.-=\"'\"=.__________________|_______\n",
        "|                   |    __.--\" , ; `\"=._o.\" ,-\"\"\"-._ \".   |\n",
        "|___________________|_._\"  ,. .` ` `` ,  `\"-._\"-._   \". '__|___________________\n",
        "          |           |o`\"=._` , \"` `; .\". ,  \"-._\"-._; ;              |\n",
        " _________|___________| ;`-.o`\"=._; .\" ` '`.\"\\` . \"-._ /_______________|_______\n",
        "|                   | |o;    `\"-.o`\"=._``  '` \" ,__.--o;   |\n",
        "|___________________|_| ;     (#) `-.o `\"=.`_.--\"_o.-; ;___|___________________\n",
        "____/______/______/___|o;._    \"      `\".o|o_.--\"    ;o;____/______/______/____\n",
        "/______/______/______/_\"=._o--._        ; | ;        ; ;/______/______/______/_\n",
        "____/______/______/______/__\"=._o--._   ;o|o;     _._;o;____/______/______/____\n",
        "/______/______/______/______/____\"=._o._; | ;_.--\"o.--\"_/______/______/______/_\n",
        "____/______/______/______/______/_____\"=.o|o_.--\"\"___/______/______/______/____\n",
        "/______/______/______/______/______/______/______/______/______/______/_____ /\n",
        "*******************************************************************************\n",
        "''')\n",
        "print(\"Welcome to Treasure Island.\")\n",
        "print(\"Your mission is to find the treasure.\")\n",
        "\n",
        "choice1=input('You\\'re at a crossroad, where do you want to go? \"left\" or \"right\" ')\n",
        "if choice1.lower()==\"right\":\n",
        "  print(\"You fell in a hole. Game over. \")\n",
        "else:\n",
        "  choice2=input('You see a lake, what do you want to do? \"swim\" or \"wait\" ')\n",
        "  if choice2.lower()==\"swim\":\n",
        "    print(\"You get attacked by trout. Game over. \")\n",
        "  else:\n",
        "    print(\"You chose to wait. As you see around u see something. You approach them. \")\n",
        "    choice3=input('You see 3 doors of 3 different colours. Which door do you choose? \"red\", \"blue\" or \"yellow\" ')\n",
        "    if choice3.lower()==\"red\":\n",
        "      print(\"The room is full of fire. You get burned.Game over. \")\n",
        "    elif choice3.lower()==\"blue\":\n",
        "      print(\"The room is full of hungry beasts. You get eaten. Game over. \")\n",
        "    else:\n",
        "      print(\"YAY! You win. \")"
      ],
      "metadata": {
        "colab": {
          "base_uri": "https://localhost:8080/"
        },
        "id": "BwQBSedVljSk",
        "outputId": "100756ea-3c17-4c39-84c5-729f239b6cc7"
      },
      "execution_count": null,
      "outputs": [
        {
          "output_type": "stream",
          "name": "stdout",
          "text": [
            "\n",
            "*******************************************************************************\n",
            "          |                   |                  |                     |\n",
            " _________|________________.=\"\"_;=.______________|_____________________|_______\n",
            "|                   |  ,-\"_,=\"\"     `\"=.|                  |\n",
            "|___________________|__\"=._o`\"-._        `\"=.______________|___________________\n",
            "          |                `\"=._o`\"=._      _`\"=._                     |\n",
            " _________|_____________________:=._o \"=._.\"_.-=\"'\"=.__________________|_______\n",
            "|                   |    __.--\" , ; `\"=._o.\" ,-\"\"\"-._ \".   |\n",
            "|___________________|_._\"  ,. .` ` `` ,  `\"-._\"-._   \". '__|___________________\n",
            "          |           |o`\"=._` , \"` `; .\". ,  \"-._\"-._; ;              |\n",
            " _________|___________| ;`-.o`\"=._; .\" ` '`.\"\\` . \"-._ /_______________|_______\n",
            "|                   | |o;    `\"-.o`\"=._``  '` \" ,__.--o;   |\n",
            "|___________________|_| ;     (#) `-.o `\"=.`_.--\"_o.-; ;___|___________________\n",
            "____/______/______/___|o;._    \"      `\".o|o_.--\"    ;o;____/______/______/____\n",
            "/______/______/______/_\"=._o--._        ; | ;        ; ;/______/______/______/_\n",
            "____/______/______/______/__\"=._o--._   ;o|o;     _._;o;____/______/______/____\n",
            "/______/______/______/______/____\"=._o._; | ;_.--\"o.--\"_/______/______/______/_\n",
            "____/______/______/______/______/_____\"=.o|o_.--\"\"___/______/______/______/____\n",
            "/______/______/______/______/______/______/______/______/______/______/_____ /\n",
            "*******************************************************************************\n",
            "\n",
            "Welcome to Treasure Island.\n",
            "Your mission is to find the treasure.\n",
            "You're at a crossroad, where do you want to go? \"left\" or \"right\" right\n",
            "You fell in a hole. Game over. \n"
          ]
        }
      ]
    }
  ],
  "metadata": {
    "colab": {
      "provenance": [],
      "authorship_tag": "ABX9TyOyRu+w18vJYaU3AR1DILRe",
      "include_colab_link": true
    },
    "kernelspec": {
      "display_name": "Python 3",
      "name": "python3"
    },
    "language_info": {
      "name": "python"
    }
  },
  "nbformat": 4,
  "nbformat_minor": 0
}