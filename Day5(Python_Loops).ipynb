{
  "nbformat": 4,
  "nbformat_minor": 0,
  "metadata": {
    "colab": {
      "provenance": [],
      "authorship_tag": "ABX9TyO2jPwvhBe8hxBoAUuY88tK",
      "include_colab_link": true
    },
    "kernelspec": {
      "name": "python3",
      "display_name": "Python 3"
    },
    "language_info": {
      "name": "python"
    }
  },
  "cells": [
    {
      "cell_type": "markdown",
      "metadata": {
        "id": "view-in-github",
        "colab_type": "text"
      },
      "source": [
        "<a href=\"https://colab.research.google.com/github/shezm13/html-portfolio/blob/main/Day5(Python_Loops).ipynb\" target=\"_parent\"><img src=\"https://colab.research.google.com/assets/colab-badge.svg\" alt=\"Open In Colab\"/></a>"
      ]
    },
    {
      "cell_type": "code",
      "execution_count": null,
      "metadata": {
        "colab": {
          "base_uri": "https://localhost:8080/"
        },
        "id": "93dhFVGdReQ_",
        "outputId": "297c7684-d4c1-4ff2-9a23-929a341786e6"
      },
      "outputs": [
        {
          "output_type": "stream",
          "name": "stdout",
          "text": [
            "Input a list of student heights: 180 124 165 173 189 169 146\n",
            "[180, 124, 165, 173, 189, 169, 146]\n",
            "7\n",
            "1146\n",
            "164\n"
          ]
        }
      ],
      "source": [
        "#5.1\n",
        "#Average height\n",
        "\n",
        "student_heights=input(\"Input a list of student heights: \").split()\n",
        "for n in range(0,len(student_heights)):\n",
        "  student_heights[n]=int(student_heights[n])\n",
        "print(student_heights)\n",
        "count=0\n",
        "sum=0\n",
        "for i in student_heights:\n",
        "  count+=1\n",
        "  sum+=i\n",
        "print(count)\n",
        "print(sum)\n",
        "print(sum(student_heights))\n",
        "print(len(student_heights))\n",
        "print(sum(student_heights))\n",
        "avg_height=round(sum/count)\n",
        "print(avg_height)"
      ]
    },
    {
      "cell_type": "code",
      "source": [
        "#5.2\n",
        "#Highest Score\n",
        "student_scores=input(\"Input a list of student heights: \").split()\n",
        "for n in range(0,len(student_scores)):\n",
        "  student_scores[n]=int(student_scores[n])\n",
        "print(student_scores)\n",
        "print(max(student_scores))\n",
        "print(min(student_scores))\n",
        "highest_score=0\n",
        "\n",
        "for i in student_scores:\n",
        "  if i>highest_score:\n",
        "    highest_score=i\n",
        "print(highest_score)"
      ],
      "metadata": {
        "colab": {
          "base_uri": "https://localhost:8080/"
        },
        "id": "kdXts6CDYM8a",
        "outputId": "c7540ef9-2d4e-4e42-e6ff-3c79ac282f81"
      },
      "execution_count": null,
      "outputs": [
        {
          "output_type": "stream",
          "name": "stdout",
          "text": [
            "Input a list of student heights: 78 65 89 86 55 91 64 89\n",
            "[78, 65, 89, 86, 55, 91, 64, 89]\n",
            "91\n",
            "55\n",
            "91\n"
          ]
        }
      ]
    },
    {
      "cell_type": "code",
      "source": [
        "#5.3\n",
        "#Adding Evens\n",
        "for i in range(0,101,2):\n",
        "  sum+=i\n",
        "print(sum)"
      ],
      "metadata": {
        "colab": {
          "base_uri": "https://localhost:8080/"
        },
        "id": "SLcWnqDhbVfb",
        "outputId": "2164577f-51b5-4ff9-b2c7-fb4a44b4218e"
      },
      "execution_count": null,
      "outputs": [
        {
          "output_type": "stream",
          "name": "stdout",
          "text": [
            "13846\n"
          ]
        }
      ]
    },
    {
      "cell_type": "code",
      "source": [
        "#5.4\n",
        "#FizzBuzz\n",
        "for i in range(1,101):\n",
        "  if i%3==0:\n",
        "    print(\"Fizz\")\n",
        "  elif i%5==0:\n",
        "    print(\"Buzz\")\n",
        "  elif (i%3==0)and(i%5==0):\n",
        "    print(\"FizzBuzz\")\n",
        "  else:\n",
        "    print(i)"
      ],
      "metadata": {
        "id": "768RTTdOckdK"
      },
      "execution_count": null,
      "outputs": []
    },
    {
      "cell_type": "code",
      "source": [
        "#5.5\n",
        "#Password Generator\n",
        "import random\n",
        "letters = ['a', 'b', 'c', 'd', 'e', 'f', 'g', 'h', 'i', 'j', 'k', 'l', 'm', 'n', 'o', 'p', 'q', 'r', 's', 't', 'u', 'v', 'w', 'x', 'y', 'z', 'A', 'B', 'C', 'D', 'E', 'F', 'G', 'H', 'I', 'J', 'K', 'L', 'M', 'N', 'O', 'P', 'Q', 'R', 'S', 'T', 'U', 'V', 'W', 'X', 'Y', 'Z']\n",
        "numbers = ['0', '1', '2', '3', '4', '5', '6', '7', '8', '9']\n",
        "symbols = ['!', '#', '$', '%', '&', '(', ')', '*', '+']\n",
        "\n",
        "print(\"Welcome to the PyPassword Generator!\")\n",
        "nr_letters= int(input(\"How many letters would you like in your password?\\n\"))\n",
        "nr_symbols = int(input(f\"How many symbols would you like?\\n\"))\n",
        "nr_numbers = int(input(f\"How many numbers would you like?\\n\"))\n",
        "\n",
        "password=\"\"\n",
        "for i in range(1, nr_letters+1):\n",
        "  password+=random.choice(letters)\n",
        "for i in range(1, nr_symbols+1):\n",
        "  password+=random.choice(symbols)\n",
        "for i in range(1, nr_numbers+1):\n",
        "  password+=random.choice(numbers)\n",
        "print(password)\n",
        "\n",
        "password_list=[]\n",
        "for i in range(1, nr_letters+1):\n",
        "  password_list.append(random.choice(letters))\n",
        "for i in range(1, nr_symbols+1):\n",
        "  password_list+=random.choice(symbols)\n",
        "for i in range(1, nr_numbers+1):\n",
        "  password_list+=random.choice(numbers)\n",
        "print(password_list)\n",
        "random.shuffle(password_list)\n",
        "print(password_list)"
      ],
      "metadata": {
        "colab": {
          "base_uri": "https://localhost:8080/"
        },
        "id": "M4I_NRcFd6ip",
        "outputId": "6b34a973-50a5-4a2f-f4bf-1e20e176a953"
      },
      "execution_count": null,
      "outputs": [
        {
          "output_type": "stream",
          "name": "stdout",
          "text": [
            "Welcome to the PyPassword Generator!\n",
            "How many letters would you like in your password?\n",
            "2\n",
            "How many symbols would you like?\n",
            "2\n",
            "How many numbers would you like?\n",
            "2\n",
            "Do((71\n",
            "['k', 'H', '&', '&', '7', '9']\n",
            "['H', '&', '7', 'k', '&', '9']\n"
          ]
        }
      ]
    }
  ]
}