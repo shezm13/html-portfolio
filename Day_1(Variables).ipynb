{
  "nbformat": 4,
  "nbformat_minor": 0,
  "metadata": {
    "colab": {
      "provenance": [],
      "authorship_tag": "ABX9TyOpOyBfsFLPuKLd7phmxwUG",
      "include_colab_link": true
    },
    "kernelspec": {
      "name": "python3",
      "display_name": "Python 3"
    },
    "language_info": {
      "name": "python"
    }
  },
  "cells": [
    {
      "cell_type": "markdown",
      "metadata": {
        "id": "view-in-github",
        "colab_type": "text"
      },
      "source": [
        "<a href=\"https://colab.research.google.com/github/shezm13/html-portfolio/blob/main/Day_1(Variables).ipynb\" target=\"_parent\"><img src=\"https://colab.research.google.com/assets/colab-badge.svg\" alt=\"Open In Colab\"/></a>"
      ]
    },
    {
      "cell_type": "code",
      "execution_count": null,
      "metadata": {
        "id": "v-N0rZJBWZvQ"
      },
      "outputs": [],
      "source": [
        "#Day 1 - Beginner - Working with Variables in Python to Manage Data"
      ]
    },
    {
      "cell_type": "code",
      "source": [
        "#Print()\n",
        "print(\"Day 1-Python\")\n",
        "print(\"The function is declared like this: \")\n",
        "print(\"print('what to print')\")"
      ],
      "metadata": {
        "id": "56TSO1VTWy0T",
        "colab": {
          "base_uri": "https://localhost:8080/"
        },
        "outputId": "2812ec6c-8d0f-42f6-8818-e56bd4c0acb4"
      },
      "execution_count": null,
      "outputs": [
        {
          "output_type": "stream",
          "name": "stdout",
          "text": [
            "Day 1-Python\n",
            "The function is declared like this: \n",
            "print('what to print')\n"
          ]
        }
      ]
    },
    {
      "cell_type": "code",
      "source": [
        "#String Manipulation\n",
        "print(\"Hello\"+\" \"+\"Shezan\")\n",
        "\n",
        "print(\"Day 1-String Manipulation\")\n",
        "print('String concatenation is done with \"+\" sign.')\n",
        "print('eg.- print(\"Hello\" + \"world\")')\n",
        "print(\"New lines can be created with a backlash and n. \")"
      ],
      "metadata": {
        "colab": {
          "base_uri": "https://localhost:8080/"
        },
        "id": "ylIKPbfkXLFg",
        "outputId": "caa4c283-5a3b-47b2-928f-085b8c073de1"
      },
      "execution_count": null,
      "outputs": [
        {
          "output_type": "stream",
          "name": "stdout",
          "text": [
            "Hello Shezan\n",
            "Day 1-String Manipulation\n",
            "String concatenation is done with \"+\" sign.\n",
            "eg.- print(\"Hello\" + \"world\")\n",
            "New lines can be created with a backlash and n. \n"
          ]
        }
      ]
    },
    {
      "cell_type": "code",
      "source": [
        "#input()\n",
        "print(\"Hello \"+input(\"What is  ur name?\"))\n",
        "print(len(input(\"What is your name? \")))"
      ],
      "metadata": {
        "colab": {
          "base_uri": "https://localhost:8080/"
        },
        "id": "dZRM8k7iak3W",
        "outputId": "2571401f-ab80-43cd-e236-18efd4003d15"
      },
      "execution_count": null,
      "outputs": [
        {
          "output_type": "stream",
          "name": "stdout",
          "text": [
            "What is  ur name?sm\n",
            "Hello sm\n",
            "What is your name? sm\n",
            "2\n"
          ]
        }
      ]
    },
    {
      "cell_type": "code",
      "source": [
        "#Variables\n",
        "a=input(\"a: \")\n",
        "b=input(\"b: \")\n",
        "temp=a\n",
        "a=b\n",
        "b=temp\n",
        "print(\"a: \",a)\n",
        "print(\"b: \",b)"
      ],
      "metadata": {
        "colab": {
          "base_uri": "https://localhost:8080/"
        },
        "id": "8HzawQZ-b8LK",
        "outputId": "c8c080bd-f169-4554-df80-00b96dad92aa"
      },
      "execution_count": null,
      "outputs": [
        {
          "output_type": "stream",
          "name": "stdout",
          "text": [
            "a: 2\n",
            "b: 4\n",
            "a:  4\n",
            "b:  2\n"
          ]
        }
      ]
    },
    {
      "cell_type": "code",
      "source": [
        "#Project- Band Name Generator\n",
        "print(\"Welcome to band name generator!\")\n",
        "place=input(\"Enter any place: \")\n",
        "pet_name=input(\"Enter the name of your pet \")\n",
        "print(\"Your band name could be \"+place+\" \"+pet_name)"
      ],
      "metadata": {
        "colab": {
          "base_uri": "https://localhost:8080/"
        },
        "id": "kltXM49Dekw_",
        "outputId": "4d7555df-4952-40cb-be0b-fcdb249f10bf"
      },
      "execution_count": null,
      "outputs": [
        {
          "output_type": "stream",
          "name": "stdout",
          "text": [
            "Welcome to band name generator!\n",
            "Enter any place: hawaii\n",
            "Enter the name of your pet indigo\n",
            "Your band name could be hawaii indigo\n"
          ]
        }
      ]
    }
  ]
}